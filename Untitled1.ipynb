{
  "nbformat": 4,
  "nbformat_minor": 0,
  "metadata": {
    "colab": {
      "provenance": []
    },
    "kernelspec": {
      "name": "python3",
      "display_name": "Python 3"
    },
    "language_info": {
      "name": "python"
    }
  },
  "cells": [
    {
      "cell_type": "code",
      "execution_count": 1,
      "metadata": {
        "id": "DbD5vzdicPw6"
      },
      "outputs": [],
      "source": [
        "import random\n",
        "import matplotlib.pyplot as plt"
      ]
    },
    {
      "cell_type": "markdown",
      "source": [
        "In This we code imports two Python modules: random for generating random numbers and matplotlib.pyplot for creating plots."
      ],
      "metadata": {
        "id": "0GDU6eQdnsUv"
      }
    },
    {
      "cell_type": "code",
      "source": [
        "mapping_dict = dict(zip(range(0,10),range(0,10)))"
      ],
      "metadata": {
        "id": "q6NQuECSlOr9"
      },
      "execution_count": 2,
      "outputs": []
    },
    {
      "cell_type": "markdown",
      "source": [
        "This line of code creates a dictionary named mapping_dict using the zip function to pair corresponding elements from two ranges: range(0, 10) and range(0, 10). The resulting dictionary maps each integer from 0 to 9 to itself. In other words, it creates a simple one-to-one mapping of numbers from 0 to 9."
      ],
      "metadata": {
        "id": "YcoVjKitoJDv"
      }
    },
    {
      "cell_type": "code",
      "source": [
        "mapping_dict"
      ],
      "metadata": {
        "colab": {
          "base_uri": "https://localhost:8080/"
        },
        "id": "zSfaoLWwlUux",
        "outputId": "5bed7f08-00f1-4660-b098-62a867b46d45"
      },
      "execution_count": 3,
      "outputs": [
        {
          "output_type": "execute_result",
          "data": {
            "text/plain": [
              "{0: 0, 1: 1, 2: 2, 3: 3, 4: 4, 5: 5, 6: 6, 7: 7, 8: 8, 9: 9}"
            ]
          },
          "metadata": {},
          "execution_count": 3
        }
      ]
    },
    {
      "cell_type": "code",
      "source": [
        "for k in mapping_dict.keys():\n",
        "\n",
        "  mapping_dict[k] = str(mapping_dict[k])"
      ],
      "metadata": {
        "id": "g2gHT89glYJB"
      },
      "execution_count": 4,
      "outputs": []
    },
    {
      "cell_type": "markdown",
      "source": [
        "This code snippet iterates through the keys of the mapping_dict dictionary and converts each corresponding value to a string. It is essentially converting all the values in the dictionary from integers to strings. After this loop, all the values in mapping_dict will be strings instead of integers.\n",
        "\n",
        "\n",
        "\n",
        "\n",
        "\n",
        "\n"
      ],
      "metadata": {
        "id": "0DsD4JfCoeMQ"
      }
    },
    {
      "cell_type": "code",
      "source": [
        "mapping_dict"
      ],
      "metadata": {
        "colab": {
          "base_uri": "https://localhost:8080/"
        },
        "id": "wJh9bJtulZGy",
        "outputId": "9499bf14-c575-44f6-cb14-aeaea699a007"
      },
      "execution_count": 5,
      "outputs": [
        {
          "output_type": "execute_result",
          "data": {
            "text/plain": [
              "{0: '0',\n",
              " 1: '1',\n",
              " 2: '2',\n",
              " 3: '3',\n",
              " 4: '4',\n",
              " 5: '5',\n",
              " 6: '6',\n",
              " 7: '7',\n",
              " 8: '8',\n",
              " 9: '9'}"
            ]
          },
          "metadata": {},
          "execution_count": 5
        }
      ]
    },
    {
      "cell_type": "code",
      "source": [
        "for i in range(0,26):\n",
        "  mapping_dict[10+i] = chr(65+i)"
      ],
      "metadata": {
        "id": "QGuOAmAAlcWx"
      },
      "execution_count": 6,
      "outputs": []
    },
    {
      "cell_type": "markdown",
      "source": [
        "This code extends the mapping_dict dictionary by adding new key-value pairs. It starts with the key 10 and iterates up to 35 (since 10 + 26 = 36). For each i in the range 0 to 25, it assigns the value chr(65+i). The chr function converts the ASCII code (65 for 'A', 66 for 'B', and so on) to its corresponding character.\n",
        "\n",
        "After this loop, mapping_dict will have additional key-value pairs, mapping integers from 10 to 35 to the corresponding uppercase letters from 'A' to 'Z'.\n",
        "\n",
        "\n",
        "\n",
        "\n",
        "\n",
        "\n"
      ],
      "metadata": {
        "id": "yYUZCQJforFh"
      }
    },
    {
      "cell_type": "code",
      "source": [
        "mapping_dict"
      ],
      "metadata": {
        "colab": {
          "base_uri": "https://localhost:8080/"
        },
        "id": "bRupvt6qlh30",
        "outputId": "53bd011f-7061-4bb1-a558-62c7b44c5d95"
      },
      "execution_count": 7,
      "outputs": [
        {
          "output_type": "execute_result",
          "data": {
            "text/plain": [
              "{0: '0',\n",
              " 1: '1',\n",
              " 2: '2',\n",
              " 3: '3',\n",
              " 4: '4',\n",
              " 5: '5',\n",
              " 6: '6',\n",
              " 7: '7',\n",
              " 8: '8',\n",
              " 9: '9',\n",
              " 10: 'A',\n",
              " 11: 'B',\n",
              " 12: 'C',\n",
              " 13: 'D',\n",
              " 14: 'E',\n",
              " 15: 'F',\n",
              " 16: 'G',\n",
              " 17: 'H',\n",
              " 18: 'I',\n",
              " 19: 'J',\n",
              " 20: 'K',\n",
              " 21: 'L',\n",
              " 22: 'M',\n",
              " 23: 'N',\n",
              " 24: 'O',\n",
              " 25: 'P',\n",
              " 26: 'Q',\n",
              " 27: 'R',\n",
              " 28: 'S',\n",
              " 29: 'T',\n",
              " 30: 'U',\n",
              " 31: 'V',\n",
              " 32: 'W',\n",
              " 33: 'X',\n",
              " 34: 'Y',\n",
              " 35: 'Z'}"
            ]
          },
          "metadata": {},
          "execution_count": 7
        }
      ]
    },
    {
      "cell_type": "code",
      "source": [
        "sample_size = 5000000\n",
        "\n",
        "random_numbers = list()\n",
        "\n",
        "for i in range(0,sample_size):\n",
        "\n",
        "  blank_str = str()\n",
        "\n",
        "  random_digit = random.randint(0,35)\n",
        "  blank_str = blank_str + mapping_dict[random_digit]\n",
        "\n",
        "  random_digit = random.randint(0,35)\n",
        "  blank_str = blank_str + mapping_dict[random_digit]\n",
        "\n",
        "  for i in range(0,8):\n",
        "    coin_toss = random.randint(0,1)\n",
        "\n",
        "    if coin_toss == 1:\n",
        "\n",
        "      random_digit = random.randint(0,35)\n",
        "      blank_str = blank_str + mapping_dict[random_digit]\n",
        "\n",
        "    else:\n",
        "      break\n",
        "\n",
        "  random_numbers.append(blank_str)"
      ],
      "metadata": {
        "id": "AylWykySllve"
      },
      "execution_count": 8,
      "outputs": []
    },
    {
      "cell_type": "markdown",
      "source": [
        "This code generates a list named random_numbers containing strings of characters. It iterates sample_size times (here, 5,000,000), and for each iteration:\n",
        "\n",
        "1)It initializes an empty string blank_str.\n",
        "\n",
        "2)It generates two random digits between 0 and 35 (inclusive) and appends the corresponding characters from mapping_dict to blank_str.\n",
        "\n",
        "3)It then performs a coin toss (0 or 1) and, based on the outcome:\n",
        "If the result is 1, it generates another random digit and appends the corresponding character to blank_str.\n",
        "If the result is 0, the loop breaks.\n",
        "\n",
        "4)The final string blank_str is appended to the random_numbers list.\n",
        "This process creates a list of strings, each formed by concatenating characters based on random digits and coin tosses, with varying lengths depending on the number of coin tosses.\n",
        "\n",
        "\n",
        "\n",
        "\n",
        "\n",
        "\n"
      ],
      "metadata": {
        "id": "grLcuE-npLeo"
      }
    },
    {
      "cell_type": "code",
      "source": [
        "reverse_mapping_dict = dict()\n",
        "\n",
        "for k in mapping_dict.keys():\n",
        "  reverse_mapping_dict[mapping_dict[k]] = k"
      ],
      "metadata": {
        "id": "c-zUsvuclqYn"
      },
      "execution_count": 9,
      "outputs": []
    },
    {
      "cell_type": "markdown",
      "source": [
        "This code snippet creates a new dictionary named reverse_mapping_dict by reversing the key-value pairs of the existing mapping_dict."
      ],
      "metadata": {
        "id": "FtoR4dsgp3MM"
      }
    },
    {
      "cell_type": "code",
      "source": [
        "base_frequency = dict()\n",
        "\n",
        "for blank_str in random_numbers:\n",
        "  highest_digit = max(blank_str)\n",
        "  highest_base = reverse_mapping_dict[highest_digit] + 1\n",
        "\n",
        "  if highest_base in base_frequency.keys():\n",
        "    base_frequency[highest_base] += (1/sample_size)\n",
        "  else:\n",
        "    base_frequency[highest_base] = (1/sample_size)"
      ],
      "metadata": {
        "id": "UO9xzx0vlvH3"
      },
      "execution_count": 10,
      "outputs": []
    },
    {
      "cell_type": "markdown",
      "source": [
        "This code calculates the frequency of the highest base in each string in the random_numbers list and stores the results in a dictionary named base_frequency. For each blank_str in random_numbers:\n",
        "\n",
        "1)It finds the highest digit in the string (highest_digit).\n",
        "\n",
        "2)It uses the reverse_mapping_dict to get the corresponding base of the highest digit (highest_base).\n",
        "\n",
        "3)If highest_base is already a key in base_frequency, it increments its value by (1/sample_size). Otherwise, it adds a new key-value pair with highest_base and (1/sample_size).\n",
        "\n",
        "In the end, base_frequency represents the frequency of each base value in the set of strings in random_numbers."
      ],
      "metadata": {
        "id": "-TKPqUbUqmWg"
      }
    },
    {
      "cell_type": "code",
      "source": [
        "plt.bar(x=base_frequency.keys(),height=base_frequency.values())"
      ],
      "metadata": {
        "colab": {
          "base_uri": "https://localhost:8080/",
          "height": 447
        },
        "id": "cDKEORX_lzcW",
        "outputId": "3bf4f710-926a-4cc4-ab0a-05a795b9cf8b"
      },
      "execution_count": 11,
      "outputs": [
        {
          "output_type": "execute_result",
          "data": {
            "text/plain": [
              "<BarContainer object of 36 artists>"
            ]
          },
          "metadata": {},
          "execution_count": 11
        },
        {
          "output_type": "display_data",
          "data": {
            "text/plain": [
              "<Figure size 640x480 with 1 Axes>"
            ],
            "image/png": "[encoded data removed]"
          },
          "metadata": {}
        }
      ]
    },
    {
      "cell_type": "markdown",
      "source": [
        "This code uses Matplotlib to create a bar chart. It uses the bar function to generate a bar chart with x-axis values taken from the keys of the base_frequency dictionary and corresponding heights taken from the values of the same dictionary. The resulting chart visualizes the frequency distribution of different base values in the dataset.\n",
        "\n",
        "\n",
        "\n",
        "\n",
        "\n",
        "\n"
      ],
      "metadata": {
        "id": "s--LHZ5mrJB4"
      }
    }
  ]
}